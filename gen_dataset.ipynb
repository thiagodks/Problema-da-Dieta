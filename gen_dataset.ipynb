{
 "metadata": {
  "language_info": {
   "codemirror_mode": {
    "name": "ipython",
    "version": 3
   },
   "file_extension": ".py",
   "mimetype": "text/x-python",
   "name": "python",
   "nbconvert_exporter": "python",
   "pygments_lexer": "ipython3",
   "version": "3.8.5-final"
  },
  "orig_nbformat": 2,
  "kernelspec": {
   "name": "python385jvsc74a57bd031f2aee4e71d21fbe5cf8b01ff0e069b9275f58929596ceb00d14d90e3e16cd6",
   "display_name": "Python 3.8.5 64-bit"
  }
 },
 "nbformat": 4,
 "nbformat_minor": 2,
 "cells": [
  {
   "cell_type": "code",
   "execution_count": 21,
   "metadata": {},
   "outputs": [],
   "source": [
    "import pandas as pd\n",
    "import json"
   ]
  },
  {
   "cell_type": "code",
   "execution_count": 7,
   "metadata": {},
   "outputs": [],
   "source": [
    "alimentos = open(\"Dataset/alimentos.txt\", \"r\").readlines()\n",
    "alimentos = [alimento.replace(\"\\n\", \"\") for alimento in alimentos]"
   ]
  },
  {
   "cell_type": "code",
   "execution_count": 17,
   "metadata": {},
   "outputs": [],
   "source": [
    "entrada = pd.read_csv(\"Dataset/entrada.txt\", sep=\"\\t\")\n",
    "entrada.index = alimentos\n",
    "entrada[\"id\"] = [i for i in range(1, len(alimentos)+1)]"
   ]
  },
  {
   "cell_type": "code",
   "execution_count": 18,
   "metadata": {},
   "outputs": [],
   "source": [
    "entrada.head()\n",
    "entrada.to_csv(\"Dataset/dataset_formatado.csv\")"
   ]
  },
  {
   "cell_type": "code",
   "execution_count": 19,
   "metadata": {},
   "outputs": [],
   "source": [
    "produtos = {\"bebidas\":[], \"sucos\":[], \"frutas\":[], \"lacteos\":[], \"carbo1\":[], \"carbo2\":[], \"graos\":[], \"vegetais\":[], \"proteinas\":[]}"
   ]
  },
  {
   "cell_type": "code",
   "execution_count": 20,
   "metadata": {},
   "outputs": [],
   "source": [
    "produtos[\"bebidas\"] = list(range(1,22))\n",
    "produtos[\"sucos\"] = list(range(22,33))\n",
    "produtos[\"frutas\"] = list(range(33,95))\n",
    "produtos[\"lacteos\"] = list(range(95,114))\n",
    "produtos[\"carbo1\"] = list(range(114,135))\n",
    "produtos[\"carbo2\"] = list(range(135,147))\n",
    "produtos[\"graos\"] = list(range(147,159))\n",
    "produtos[\"vegetais\"] = list(range(159,200))\n",
    "produtos[\"proteinas\"] = list(range(200,295))"
   ]
  },
  {
   "cell_type": "code",
   "execution_count": 24,
   "metadata": {},
   "outputs": [],
   "source": [
    "json.dump(produtos, open(\"Dataset/produtos.json\", \"w\"), indent=4)"
   ]
  },
  {
   "cell_type": "code",
   "execution_count": 40,
   "metadata": {},
   "outputs": [],
   "source": [
    "# Proteínas:   > 75\n",
    "# Carboidratos:   > 300\n",
    "# Fibra Alimentar: > 25\n",
    "# Cálcio > 1000\n",
    "# Magnésio > 260)\n",
    "# Manganês:  > 2.3\n",
    "# Fósforo: >700\n",
    "# Ferro:  > 14\n",
    "# Sódio:  < 2400\n",
    "# Zinco: >  7"
   ]
  }
 ]
}