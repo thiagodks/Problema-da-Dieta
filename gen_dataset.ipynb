{
 "metadata": {
  "language_info": {
   "codemirror_mode": {
    "name": "ipython",
    "version": 3
   },
   "file_extension": ".py",
   "mimetype": "text/x-python",
   "name": "python",
   "nbconvert_exporter": "python",
   "pygments_lexer": "ipython3",
   "version": "3.8.5-final"
  },
  "orig_nbformat": 2,
  "kernelspec": {
   "name": "python385jvsc74a57bd031f2aee4e71d21fbe5cf8b01ff0e069b9275f58929596ceb00d14d90e3e16cd6",
   "display_name": "Python 3.8.5 64-bit"
  }
 },
 "nbformat": 4,
 "nbformat_minor": 2,
 "cells": [
  {
   "cell_type": "code",
   "execution_count": 1,
   "metadata": {},
   "outputs": [],
   "source": [
    "import pandas as pd\n",
    "import json"
   ]
  },
  {
   "cell_type": "code",
   "execution_count": 22,
   "metadata": {},
   "outputs": [],
   "source": [
    "alimentos = open(\"Dataset/alimentos.txt\", \"r\").readlines()\n",
    "alimentos = [alimento.replace(\"\\n\", \"\") for alimento in alimentos]"
   ]
  },
  {
   "cell_type": "code",
   "execution_count": 23,
   "metadata": {},
   "outputs": [],
   "source": [
    "entrada = pd.read_csv(\"Dataset/dataset_formatado.csv\")\n",
    "# entrada.index = alimentos\n",
    "# entrada[\"id\"] = [i for i in range(1, len(alimentos)+1)]"
   ]
  },
  {
   "cell_type": "code",
   "execution_count": 26,
   "metadata": {},
   "outputs": [],
   "source": [
    "entrada.head()\n",
    "# entrada = entrada.drop(columns=[\"Unnamed: 0\"])\n",
    "# entrada.to_csv(\"Dataset/dataset_formatado.csv\", index=False)"
   ]
  },
  {
   "cell_type": "code",
   "execution_count": 57,
   "metadata": {},
   "outputs": [],
   "source": [
    "produtos = {\"bebidas\":[], \"sucos\":[], \"frutas\":[], \"lacteos\":[], \"carbo1\":[], \"carbo2\":[], \"graos\":[], \"vegetais\":[], \"proteinas\":[]}"
   ]
  },
  {
   "cell_type": "code",
   "execution_count": 20,
   "metadata": {},
   "outputs": [],
   "source": [
    "produtos[\"bebidas\"] = list(range(1,22))\n",
    "produtos[\"sucos\"] = list(range(22,33))\n",
    "produtos[\"frutas\"] = list(range(33,95))\n",
    "produtos[\"lacteos\"] = list(range(95,114))\n",
    "produtos[\"carbo1\"] = list(range(114,135))\n",
    "produtos[\"carbo2\"] = list(range(135,147))\n",
    "produtos[\"graos\"] = list(range(147,159))\n",
    "produtos[\"vegetais\"] = list(range(159,200))\n",
    "produtos[\"proteinas\"] = list(range(200,295))"
   ]
  },
  {
   "cell_type": "code",
   "execution_count": 24,
   "metadata": {},
   "outputs": [],
   "source": [
    "json.dump(produtos, open(\"Dataset/produtos.json\", \"w\"), indent=4)"
   ]
  },
  {
   "cell_type": "code",
   "execution_count": 5,
   "metadata": {},
   "outputs": [
    {
     "output_type": "execute_result",
     "data": {
      "text/plain": [
       "                  Alimento  id   Pt    C   Df  Ca  Mg    Mn  P   Fe  Na   Zn\n",
       "0          Café,infusão10%   1  0.7  1.5  0.0   3  10  0.04  9  0.0   1  0.0\n",
       "1  Chá,erva-doce,infusão5%   2  0.0  0.4  0.0   2   1  0.01  1  0.0   1  0.0\n",
       "2       Chá,mate,infusão5%   3  0.0  0.6  0.0   1   2  0.27  0  0.0   0  0.0\n",
       "3      Chá,preto,infusão5%   4  0.0  0.6  0.0   0   1  0.09  2  0.0   0  0.0\n",
       "4              Coco,águade   5  0.0  5.3  0.1  19   5  0.25  4  0.0   2  0.0"
      ],
      "text/html": "<div>\n<style scoped>\n    .dataframe tbody tr th:only-of-type {\n        vertical-align: middle;\n    }\n\n    .dataframe tbody tr th {\n        vertical-align: top;\n    }\n\n    .dataframe thead th {\n        text-align: right;\n    }\n</style>\n<table border=\"1\" class=\"dataframe\">\n  <thead>\n    <tr style=\"text-align: right;\">\n      <th></th>\n      <th>Alimento</th>\n      <th>id</th>\n      <th>Pt</th>\n      <th>C</th>\n      <th>Df</th>\n      <th>Ca</th>\n      <th>Mg</th>\n      <th>Mn</th>\n      <th>P</th>\n      <th>Fe</th>\n      <th>Na</th>\n      <th>Zn</th>\n    </tr>\n  </thead>\n  <tbody>\n    <tr>\n      <th>0</th>\n      <td>Café,infusão10%</td>\n      <td>1</td>\n      <td>0.7</td>\n      <td>1.5</td>\n      <td>0.0</td>\n      <td>3</td>\n      <td>10</td>\n      <td>0.04</td>\n      <td>9</td>\n      <td>0.0</td>\n      <td>1</td>\n      <td>0.0</td>\n    </tr>\n    <tr>\n      <th>1</th>\n      <td>Chá,erva-doce,infusão5%</td>\n      <td>2</td>\n      <td>0.0</td>\n      <td>0.4</td>\n      <td>0.0</td>\n      <td>2</td>\n      <td>1</td>\n      <td>0.01</td>\n      <td>1</td>\n      <td>0.0</td>\n      <td>1</td>\n      <td>0.0</td>\n    </tr>\n    <tr>\n      <th>2</th>\n      <td>Chá,mate,infusão5%</td>\n      <td>3</td>\n      <td>0.0</td>\n      <td>0.6</td>\n      <td>0.0</td>\n      <td>1</td>\n      <td>2</td>\n      <td>0.27</td>\n      <td>0</td>\n      <td>0.0</td>\n      <td>0</td>\n      <td>0.0</td>\n    </tr>\n    <tr>\n      <th>3</th>\n      <td>Chá,preto,infusão5%</td>\n      <td>4</td>\n      <td>0.0</td>\n      <td>0.6</td>\n      <td>0.0</td>\n      <td>0</td>\n      <td>1</td>\n      <td>0.09</td>\n      <td>2</td>\n      <td>0.0</td>\n      <td>0</td>\n      <td>0.0</td>\n    </tr>\n    <tr>\n      <th>4</th>\n      <td>Coco,águade</td>\n      <td>5</td>\n      <td>0.0</td>\n      <td>5.3</td>\n      <td>0.1</td>\n      <td>19</td>\n      <td>5</td>\n      <td>0.25</td>\n      <td>4</td>\n      <td>0.0</td>\n      <td>2</td>\n      <td>0.0</td>\n    </tr>\n  </tbody>\n</table>\n</div>"
     },
     "metadata": {},
     "execution_count": 5
    }
   ],
   "source": [
    "entrada = pd.read_csv(\"Dataset/dataset_formatado.csv\")\n",
    "entrada.head()"
   ]
  },
  {
   "cell_type": "code",
   "execution_count": 6,
   "metadata": {},
   "outputs": [],
   "source": [
    "taco_json = json.load(open(\"Dataset/TACO_formatted.json\", \"r\"))\n",
    "for i in range(0, len(taco_json)):\n",
    "    taco_json[i][\"description2\"] = taco_json[i][\"description\"].replace(\" \", \"\")"
   ]
  },
  {
   "cell_type": "code",
   "execution_count": 7,
   "metadata": {},
   "outputs": [
    {
     "output_type": "execute_result",
     "data": {
      "text/plain": [
       "294"
      ]
     },
     "metadata": {},
     "execution_count": 7
    }
   ],
   "source": [
    "alimentos = entrada[\"Alimento\"]\n",
    "list_kcal = []\n",
    "list_alim = []\n",
    "for alimento in alimentos:\n",
    "    found = False\n",
    "    for prod in taco_json:\n",
    "        if prod[\"description2\"] == alimento:\n",
    "            list_kcal.append(float(prod[\"energy_kcal\"]))\n",
    "            list_alim.append(prod[\"description\"])\n",
    "            found = True\n",
    "            break\n",
    "    if not found:\n",
    "        if alimento == \"Queijo,requeijão,cremoso\":\n",
    "            list_kcal.append(257)\n",
    "            list_alim.append(\"Queijo, requeijão, cremoso\")\n",
    "        elif alimento == \"Cerealmatinal,milho,comaçúcar\":\n",
    "            list_kcal.append(377)\n",
    "            list_alim.append(\"Cereal matinal, milho, com açúcar\")    \n",
    "        elif alimento == \"Palmito,juçara,emconserva\":\n",
    "            list_kcal.append(18)\n",
    "            list_alim.append(\"Palmito, juçara, em conserva\")\n",
    "len(list_kcal)\n",
    "len(list_alim)"
   ]
  },
  {
   "cell_type": "code",
   "execution_count": 8,
   "metadata": {},
   "outputs": [],
   "source": [
    "entrada[\"kcal\"] = list_kcal\n",
    "entrada[\"Alimento\"] = list_alim"
   ]
  },
  {
   "cell_type": "code",
   "execution_count": 9,
   "metadata": {},
   "outputs": [
    {
     "output_type": "execute_result",
     "data": {
      "text/plain": [
       "                          Alimento  id    Pt     C   Df    Ca   Mg    Mn  \\\n",
       "0                Café, infusão 10%   1   0.7   1.5  0.0     3   10  0.04   \n",
       "1       Chá, erva-doce, infusão 5%   2   0.0   0.4  0.0     2    1  0.01   \n",
       "2            Chá, mate, infusão 5%   3   0.0   0.6  0.0     1    2  0.27   \n",
       "3           Chá, preto, infusão 5%   4   0.0   0.6  0.0     0    1  0.09   \n",
       "4                    Coco, água de   5   0.0   5.3  0.1    19    5  0.25   \n",
       "5   Refrigerante, tipo água tônica   6   0.0   8.0  0.0     1    0  0.00   \n",
       "6          Refrigerante, tipo cola   7   0.0   8.7  0.0     1    0  0.00   \n",
       "7       Refrigerante, tipo guaraná   8   0.0  10.0  0.0     1    0  0.00   \n",
       "8       Refrigerante, tipo laranja   9   0.0  11.8  0.0     2    1  0.00   \n",
       "9         Refrigerante, tipo limão  10   0.0  10.3  0.0     2    1  0.00   \n",
       "10          Bebida láctea, pêssego  11   2.1   7.6  0.3    89    9  0.00   \n",
       "11                 Leite, de cabra  12   3.1   5.2  0.0   112   10  0.00   \n",
       "12    Leite, de vaca, achocolatado  13   2.1  14.2  0.6    70   13  0.05   \n",
       "13   Leite, de vaca, desnatado, pó  14  34.7  53.0  0.0  1363  109  0.00   \n",
       "14    Leite, de vaca, integral, pó  15  25.4  39.2  0.0   890   77  0.00   \n",
       "15               Leite, fermentado  16   1.9  15.7  0.0    72    6  0.02   \n",
       "16          Bebida láctea, pêssego  17   2.1   7.6  0.3    89    9  0.00   \n",
       "17                Iogurte, natural  18   4.1   1.9  0.0   143   11  0.00   \n",
       "18     Iogurte, natural, desnatado  19   3.8   5.8  0.0   157   12  0.00   \n",
       "19          Iogurte, sabor morango  20   2.7   9.7  0.2   101    8  0.00   \n",
       "\n",
       "       P   Fe   Na   Zn        kcal  \n",
       "0      9  0.0    1  0.0    9.070869  \n",
       "1      1  0.0    1  0.0    1.397060  \n",
       "2      0  0.0    0  0.0    2.730750  \n",
       "3      2  0.0    0  0.0    2.247910  \n",
       "4      4  0.0    2  0.0   21.508594  \n",
       "5      0  0.0    8  0.0   30.779400  \n",
       "6     17  0.0    7  0.0   33.514200  \n",
       "7      0  0.0    9  0.0   38.700000  \n",
       "8      1  0.0    9  0.0   45.627300  \n",
       "9      0  0.0    9  0.0   39.719100  \n",
       "10    63  0.0   46  0.2   55.164833  \n",
       "11   113  0.1   74  0.4   66.415742  \n",
       "12    71  0.5   72  0.3   82.820996  \n",
       "13  1673  0.9  432  3.8  361.608000  \n",
       "14  1242  0.5  323  2.7  496.650300  \n",
       "15    63  0.0   33  0.3   69.621474  \n",
       "16    63  0.0   46  0.2   55.164833  \n",
       "17   119  0.0   52  0.4   51.489533  \n",
       "18   110  0.0   60  0.5   41.492711  \n",
       "19    73  0.0   38  0.3   69.565600  "
      ],
      "text/html": "<div>\n<style scoped>\n    .dataframe tbody tr th:only-of-type {\n        vertical-align: middle;\n    }\n\n    .dataframe tbody tr th {\n        vertical-align: top;\n    }\n\n    .dataframe thead th {\n        text-align: right;\n    }\n</style>\n<table border=\"1\" class=\"dataframe\">\n  <thead>\n    <tr style=\"text-align: right;\">\n      <th></th>\n      <th>Alimento</th>\n      <th>id</th>\n      <th>Pt</th>\n      <th>C</th>\n      <th>Df</th>\n      <th>Ca</th>\n      <th>Mg</th>\n      <th>Mn</th>\n      <th>P</th>\n      <th>Fe</th>\n      <th>Na</th>\n      <th>Zn</th>\n      <th>kcal</th>\n    </tr>\n  </thead>\n  <tbody>\n    <tr>\n      <th>0</th>\n      <td>Café, infusão 10%</td>\n      <td>1</td>\n      <td>0.7</td>\n      <td>1.5</td>\n      <td>0.0</td>\n      <td>3</td>\n      <td>10</td>\n      <td>0.04</td>\n      <td>9</td>\n      <td>0.0</td>\n      <td>1</td>\n      <td>0.0</td>\n      <td>9.070869</td>\n    </tr>\n    <tr>\n      <th>1</th>\n      <td>Chá, erva-doce, infusão 5%</td>\n      <td>2</td>\n      <td>0.0</td>\n      <td>0.4</td>\n      <td>0.0</td>\n      <td>2</td>\n      <td>1</td>\n      <td>0.01</td>\n      <td>1</td>\n      <td>0.0</td>\n      <td>1</td>\n      <td>0.0</td>\n      <td>1.397060</td>\n    </tr>\n    <tr>\n      <th>2</th>\n      <td>Chá, mate, infusão 5%</td>\n      <td>3</td>\n      <td>0.0</td>\n      <td>0.6</td>\n      <td>0.0</td>\n      <td>1</td>\n      <td>2</td>\n      <td>0.27</td>\n      <td>0</td>\n      <td>0.0</td>\n      <td>0</td>\n      <td>0.0</td>\n      <td>2.730750</td>\n    </tr>\n    <tr>\n      <th>3</th>\n      <td>Chá, preto, infusão 5%</td>\n      <td>4</td>\n      <td>0.0</td>\n      <td>0.6</td>\n      <td>0.0</td>\n      <td>0</td>\n      <td>1</td>\n      <td>0.09</td>\n      <td>2</td>\n      <td>0.0</td>\n      <td>0</td>\n      <td>0.0</td>\n      <td>2.247910</td>\n    </tr>\n    <tr>\n      <th>4</th>\n      <td>Coco, água de</td>\n      <td>5</td>\n      <td>0.0</td>\n      <td>5.3</td>\n      <td>0.1</td>\n      <td>19</td>\n      <td>5</td>\n      <td>0.25</td>\n      <td>4</td>\n      <td>0.0</td>\n      <td>2</td>\n      <td>0.0</td>\n      <td>21.508594</td>\n    </tr>\n    <tr>\n      <th>5</th>\n      <td>Refrigerante, tipo água tônica</td>\n      <td>6</td>\n      <td>0.0</td>\n      <td>8.0</td>\n      <td>0.0</td>\n      <td>1</td>\n      <td>0</td>\n      <td>0.00</td>\n      <td>0</td>\n      <td>0.0</td>\n      <td>8</td>\n      <td>0.0</td>\n      <td>30.779400</td>\n    </tr>\n    <tr>\n      <th>6</th>\n      <td>Refrigerante, tipo cola</td>\n      <td>7</td>\n      <td>0.0</td>\n      <td>8.7</td>\n      <td>0.0</td>\n      <td>1</td>\n      <td>0</td>\n      <td>0.00</td>\n      <td>17</td>\n      <td>0.0</td>\n      <td>7</td>\n      <td>0.0</td>\n      <td>33.514200</td>\n    </tr>\n    <tr>\n      <th>7</th>\n      <td>Refrigerante, tipo guaraná</td>\n      <td>8</td>\n      <td>0.0</td>\n      <td>10.0</td>\n      <td>0.0</td>\n      <td>1</td>\n      <td>0</td>\n      <td>0.00</td>\n      <td>0</td>\n      <td>0.0</td>\n      <td>9</td>\n      <td>0.0</td>\n      <td>38.700000</td>\n    </tr>\n    <tr>\n      <th>8</th>\n      <td>Refrigerante, tipo laranja</td>\n      <td>9</td>\n      <td>0.0</td>\n      <td>11.8</td>\n      <td>0.0</td>\n      <td>2</td>\n      <td>1</td>\n      <td>0.00</td>\n      <td>1</td>\n      <td>0.0</td>\n      <td>9</td>\n      <td>0.0</td>\n      <td>45.627300</td>\n    </tr>\n    <tr>\n      <th>9</th>\n      <td>Refrigerante, tipo limão</td>\n      <td>10</td>\n      <td>0.0</td>\n      <td>10.3</td>\n      <td>0.0</td>\n      <td>2</td>\n      <td>1</td>\n      <td>0.00</td>\n      <td>0</td>\n      <td>0.0</td>\n      <td>9</td>\n      <td>0.0</td>\n      <td>39.719100</td>\n    </tr>\n    <tr>\n      <th>10</th>\n      <td>Bebida láctea, pêssego</td>\n      <td>11</td>\n      <td>2.1</td>\n      <td>7.6</td>\n      <td>0.3</td>\n      <td>89</td>\n      <td>9</td>\n      <td>0.00</td>\n      <td>63</td>\n      <td>0.0</td>\n      <td>46</td>\n      <td>0.2</td>\n      <td>55.164833</td>\n    </tr>\n    <tr>\n      <th>11</th>\n      <td>Leite, de cabra</td>\n      <td>12</td>\n      <td>3.1</td>\n      <td>5.2</td>\n      <td>0.0</td>\n      <td>112</td>\n      <td>10</td>\n      <td>0.00</td>\n      <td>113</td>\n      <td>0.1</td>\n      <td>74</td>\n      <td>0.4</td>\n      <td>66.415742</td>\n    </tr>\n    <tr>\n      <th>12</th>\n      <td>Leite, de vaca, achocolatado</td>\n      <td>13</td>\n      <td>2.1</td>\n      <td>14.2</td>\n      <td>0.6</td>\n      <td>70</td>\n      <td>13</td>\n      <td>0.05</td>\n      <td>71</td>\n      <td>0.5</td>\n      <td>72</td>\n      <td>0.3</td>\n      <td>82.820996</td>\n    </tr>\n    <tr>\n      <th>13</th>\n      <td>Leite, de vaca, desnatado, pó</td>\n      <td>14</td>\n      <td>34.7</td>\n      <td>53.0</td>\n      <td>0.0</td>\n      <td>1363</td>\n      <td>109</td>\n      <td>0.00</td>\n      <td>1673</td>\n      <td>0.9</td>\n      <td>432</td>\n      <td>3.8</td>\n      <td>361.608000</td>\n    </tr>\n    <tr>\n      <th>14</th>\n      <td>Leite, de vaca, integral, pó</td>\n      <td>15</td>\n      <td>25.4</td>\n      <td>39.2</td>\n      <td>0.0</td>\n      <td>890</td>\n      <td>77</td>\n      <td>0.00</td>\n      <td>1242</td>\n      <td>0.5</td>\n      <td>323</td>\n      <td>2.7</td>\n      <td>496.650300</td>\n    </tr>\n    <tr>\n      <th>15</th>\n      <td>Leite, fermentado</td>\n      <td>16</td>\n      <td>1.9</td>\n      <td>15.7</td>\n      <td>0.0</td>\n      <td>72</td>\n      <td>6</td>\n      <td>0.02</td>\n      <td>63</td>\n      <td>0.0</td>\n      <td>33</td>\n      <td>0.3</td>\n      <td>69.621474</td>\n    </tr>\n    <tr>\n      <th>16</th>\n      <td>Bebida láctea, pêssego</td>\n      <td>17</td>\n      <td>2.1</td>\n      <td>7.6</td>\n      <td>0.3</td>\n      <td>89</td>\n      <td>9</td>\n      <td>0.00</td>\n      <td>63</td>\n      <td>0.0</td>\n      <td>46</td>\n      <td>0.2</td>\n      <td>55.164833</td>\n    </tr>\n    <tr>\n      <th>17</th>\n      <td>Iogurte, natural</td>\n      <td>18</td>\n      <td>4.1</td>\n      <td>1.9</td>\n      <td>0.0</td>\n      <td>143</td>\n      <td>11</td>\n      <td>0.00</td>\n      <td>119</td>\n      <td>0.0</td>\n      <td>52</td>\n      <td>0.4</td>\n      <td>51.489533</td>\n    </tr>\n    <tr>\n      <th>18</th>\n      <td>Iogurte, natural, desnatado</td>\n      <td>19</td>\n      <td>3.8</td>\n      <td>5.8</td>\n      <td>0.0</td>\n      <td>157</td>\n      <td>12</td>\n      <td>0.00</td>\n      <td>110</td>\n      <td>0.0</td>\n      <td>60</td>\n      <td>0.5</td>\n      <td>41.492711</td>\n    </tr>\n    <tr>\n      <th>19</th>\n      <td>Iogurte, sabor morango</td>\n      <td>20</td>\n      <td>2.7</td>\n      <td>9.7</td>\n      <td>0.2</td>\n      <td>101</td>\n      <td>8</td>\n      <td>0.00</td>\n      <td>73</td>\n      <td>0.0</td>\n      <td>38</td>\n      <td>0.3</td>\n      <td>69.565600</td>\n    </tr>\n  </tbody>\n</table>\n</div>"
     },
     "metadata": {},
     "execution_count": 9
    }
   ],
   "source": [
    "entrada.head(20)"
   ]
  },
  {
   "cell_type": "code",
   "execution_count": 15,
   "metadata": {},
   "outputs": [],
   "source": [
    "entrada.to_csv(\"Dataset/dataset_formatado.csv\")"
   ]
  },
  {
   "cell_type": "code",
   "execution_count": null,
   "metadata": {},
   "outputs": [],
   "source": []
  }
 ]
}